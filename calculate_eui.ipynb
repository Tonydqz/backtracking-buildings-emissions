{
 "cells": [
  {
   "attachments": {},
   "cell_type": "markdown",
   "metadata": {},
   "source": [
    "We reccomend you calculate the Energy Use Intensity (kBtu/GSF) before training your model. Since the various energy uses are in different units you must first convert them to kBtu, then sum them up to get the total anunal energy use, and lastly divide by the building gross square footage. You will find some starter code in this notebook to calculate the WUI.\n",
    "\n",
    "$$eui = \\dfrac{annual\\,energy\\, use\\,(kBtu)}{building\\,square\\,footage\\,(GSF)}, \\, where\\, annual\\,energy\\,use = electricity(kBtu) + gas(kBtu) + oil(kBtu)$$"
   ]
  },
  {
   "cell_type": "code",
   "execution_count": null,
   "metadata": {},
   "outputs": [],
   "source": [
    "def kWh_to_kBTu(electricity):\n",
    "    \"Converts kilowatt-hours(kWh) to kilobtus(kBtu)\"\n",
    "    return electricity*3.4121\n",
    "\n",
    "# example use case\n",
    "# df['E'] = df['E'].apply(kWh_to_kBTu)"
   ]
  },
  {
   "cell_type": "code",
   "execution_count": null,
   "metadata": {},
   "outputs": [],
   "source": [
    "def therms_to_kBTu(gas):\n",
    "    \"Converts therms(thm) to kilobtus(kBtu)\"\n",
    "    return gas*99.976\n",
    "\n",
    "# example use case\n",
    "# df['G'] = df['G'].apply(therms_to_kBTu)"
   ]
  },
  {
   "cell_type": "code",
   "execution_count": null,
   "metadata": {},
   "outputs": [],
   "source": [
    "def gallons_to_kBtu(oil):\n",
    "    \"Converts gallons to kilobtus(kBtu)\"\n",
    "    return oil*139\n",
    "\n",
    "# example use case\n",
    "# df['O'] = df['O'].apply(galloons_to_kBTu) "
   ]
  },
  {
   "cell_type": "code",
   "execution_count": null,
   "metadata": {},
   "outputs": [],
   "source": [
    "def eui(E, G, O, GSF): \n",
    "    \"\"\"\n",
    "    Calculates energy use intensity given energy uses and building gross square footage. \n",
    "    : param E - electricity use in kBtu\n",
    "    : param G - gas use in kBtu\n",
    "    : param O - natural oil use in kBtu\n",
    "    : param GSF - building gross square footage\n",
    "    \"\"\"\n",
    "    annual_energy_use = E + G + O\n",
    "    return annual_energy_use/GSF\n",
    "    \n",
    "# example use case\n",
    "# df['eui'] = df.apply(lambda: eui(df['E'], df['G'], df['O'], df['GSF']))"
   ]
  }
 ],
 "metadata": {
  "language_info": {
   "name": "python"
  },
  "orig_nbformat": 4
 },
 "nbformat": 4,
 "nbformat_minor": 2
}
